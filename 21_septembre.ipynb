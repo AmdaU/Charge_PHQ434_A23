{
 "cells": [
  {
   "cell_type": "markdown",
   "metadata": {
    "collapsed": false
   },
   "source": [
    "$$\\newcommand{\\ket}[1]{\\left|{#1}\\right\\rangle}$$\n",
    "\n",
    "$$\\newcommand{\\bra}[1]{\\left\\langle{#1}\\right|}$$\n",
    "\n",
    "$$\\newcommand{\\ketbra}[2]{\\ket{#1}\\bra{#2}}$$\n",
    "\n"
   ]
  },
  {
   "cell_type": "markdown",
   "metadata": {
    "collapsed": false
   },
   "source": [
    "# Import de Modules"
   ]
  },
  {
   "cell_type": "code",
   "execution_count": null,
   "metadata": {
    "collapsed": false
   },
   "outputs": [],
   "source": [
    "from qutip import *\n",
    "\n",
    "import numpy as np\n",
    "\n",
    "import matplotlib\n",
    "import matplotlib.pyplot as plt\n",
    "\n",
    "from scipy.fft import fft, fftfreq\n",
    "\n",
    "\n",
    "plt.switch_backend(\"module://ipykernel.pylab.backend_inline\")\n",
    "plt.rcParams.update({'font.size': 32})"
   ]
  },
  {
   "cell_type": "markdown",
   "metadata": {
    "collapsed": false
   },
   "source": [
    "# 1. Système à deux niveaux avec drive"
   ]
  },
  {
   "cell_type": "markdown",
   "metadata": {
    "collapsed": false
   },
   "source": [
    "### Définition des vecteurs de base"
   ]
  },
  {
   "cell_type": "code",
   "execution_count": null,
   "metadata": {
    "collapsed": false
   },
   "outputs": [],
   "source": [
    "etat_g = basis(2,0)  # |g>\n",
    "etat_e = basis(2,1)  # |e>\n",
    "\n",
    "gg = etat_g*etat_g.dag()  # |g><g|\n",
    "ee = etat_e*etat_e.dag()  # |e><e|\n",
    "ge = etat_g*etat_e.dag()  # |e><e|\n",
    "eg = etat_e*etat_g.dag()  # |e><g|"
   ]
  },
  {
   "cell_type": "markdown",
   "metadata": {
    "collapsed": false
   },
   "source": [
    "### Définition du Hamiltonien et probabilité de transition ($P_{g\\to e}(t)$)\n",
    "\n",
    "\n"
   ]
  },
  {
   "cell_type": "markdown",
   "metadata": {
    "collapsed": false
   },
   "source": [
    "Rappel théorique: \n",
    "\n",
    "$$\\boxed{P_{g \\rightarrow e}(t)=\\frac{|\\Omega|^2}{|\\Omega|^2+\\Delta^2} \\sin ^2\\left(t / 2 \\sqrt{\\Delta^2+|\\Omega|^2}\\right)}$$\n"
   ]
  },
  {
   "cell_type": "code",
   "execution_count": null,
   "metadata": {
    "collapsed": false,
    "scrolled": true
   },
   "outputs": [],
   "source": [
    "Delta = 1\n",
    "drive = 1\n",
    "psi0 = etat_g\n",
    "\n",
    "# -------------------\n",
    "\n",
    "H0 = ?\n",
    "\n",
    "Hint = ?\n",
    "\n",
    "# -------------------\n",
    "\n",
    "H = H0 + Hint\n",
    "\n",
    "T = 2*np.pi/abs(drive) # Une \"periode\" d'oscillation (pour drive >> Delta)\n",
    "\n",
    "tmax = T\n",
    "t = np.linspace(0,tmax,101)\n",
    "            \n",
    "result = mesolve(H, psi0, t) # permet d'obtenir la matrice densité/vecteur d'état pour chaque points en temps\n",
    "\n",
    "P_ge = expect(ee ,result.states) # P<phi(t)|e><e|phi(t)> \n",
    "\n",
    "# print(result.states)"
   ]
  },
  {
   "cell_type": "code",
   "execution_count": null,
   "metadata": {
    "collapsed": false
   },
   "outputs": [],
   "source": [
    "plt.plot(t, P_ge, label=r'$P_{g \\rightarrow e} (t)$')\n",
    "plt.legend()\n",
    "plt.xticks([0,tmax/2, tmax], [\"$0$\", r\"$\\pi\"+f\"/{int(T/(tmax))}$\", r\"$\\pi\"+f\"/{int(T/2/tmax)}$\"])\n",
    "plt.title(f\"$\\Delta={Delta}, \\Omega={drive}$\")\n",
    "plt.show()"
   ]
  },
  {
   "cell_type": "markdown",
   "metadata": {
    "collapsed": false
   },
   "source": [
    "### Visualisation sur la sphère de Bloch"
   ]
  },
  {
   "cell_type": "code",
   "execution_count": null,
   "metadata": {
    "collapsed": false
   },
   "outputs": [],
   "source": [
    "b = qutip.Bloch()"
   ]
  },
  {
   "cell_type": "markdown",
   "metadata": {
    "collapsed": false
   },
   "source": [
    "# Système à 3 niveau (Qutrit) (ou Qubit à faible anharmonicité)"
   ]
  },
  {
   "cell_type": "code",
   "execution_count": null,
   "metadata": {
    "collapsed": false
   },
   "outputs": [],
   "source": []
  },
  {
   "cell_type": "markdown",
   "metadata": {
    "collapsed": false
   },
   "source": [
    "# Type d'Impulsions "
   ]
  },
  {
   "cell_type": "code",
   "execution_count": null,
   "metadata": {
    "collapsed": false
   },
   "outputs": [],
   "source": [
    "# échelle de temps sur laquelle calculer l'évolution\n",
    "\n",
    "max_time = 5 # evolution temporelle entre 0 et max_time \n",
    "t = np.linspace(0,max_time,1001)\n",
    "\n",
    "# option pour s'assurer que mesolve n'ignore pas le changement de cham\n",
    "mesolve_max_step = 1e-1"
   ]
  },
  {
   "cell_type": "markdown",
   "metadata": {
    "collapsed": false
   },
   "source": [
    "### Impulsion rectengulaire"
   ]
  },
  {
   "cell_type": "code",
   "execution_count": null,
   "metadata": {
    "collapsed": false
   },
   "outputs": [],
   "source": [
    "# définition de l'enveloppe du champ de pompe:\n",
    "# cette enveloppe varie entre 0 et 1\n",
    "pulse_width = 1  # impulsion pi/2 en seconde\n",
    "\n",
    "def rect_enveloppe(t):\n",
    "    return np.heaviside(t-max_time/2+pulse_width/2, 1)*np.heaviside(max_time/2-t+pulse_width/2, 1)\n",
    "\n",
    "plt.plot(t,rect_enveloppe(t))\n",
    "plt.xlabel(\"$t$ (s)\")\n",
    "plt.show()"
   ]
  },
  {
   "cell_type": "markdown",
   "metadata": {
    "collapsed": false
   },
   "source": [
    "### (Re)défintion du Hamiltonien"
   ]
  },
  {
   "cell_type": "code",
   "execution_count": null,
   "metadata": {
    "collapsed": false
   },
   "outputs": [],
   "source": [
    "# difference en fréquence entre les transitions |g> -> |e> et |e> -> |f>\n",
    "anharmonicite = -0.05\n",
    "\n",
    "# décalage spectral entre la pompe et la transition |g> -> |e>\n",
    "delta = 0.0\n",
    "\n",
    "drive = 1/(4*pulse_width) * 2 * np.pi\n",
    "\n",
    "H0 = delta * ee3 + (delta+anharmonicite) * ff3 \n",
    "\n",
    "Hint = (drive/2 * eg3 + np.conjugate(drive)/2 * ge3) + (drive/2 * fe3 + np.conjugate(drive)/2 * ef3)\n",
    "\n",
    "def H(t, args):\n",
    "    enveloppe = args[0]\n",
    "    \"\"\" Fonction permettant de calculer le Hamiltonien à chaque temps t. \"\"\"\n",
    "    return H0 + enveloppe(t)*Hint\n"
   ]
  },
  {
   "cell_type": "code",
   "execution_count": null,
   "metadata": {
    "collapsed": false
   },
   "outputs": [],
   "source": [
    "result = mesolve(hamiltonian_t, etat3_g, time, [],[], args=[rect_enveloppe], options=Options(max_step=mesolve_max_step))\n",
    "\n",
    "\n",
    "plt.plot(t, except(ee3, result.states))"
   ]
  },
  {
   "cell_type": "markdown",
   "metadata": {
    "collapsed": false
   },
   "source": [
    "### Fidélité"
   ]
  },
  {
   "cell_type": "code",
   "execution_count": null,
   "metadata": {
    "collapsed": false
   },
   "outputs": [],
   "source": [
    "fidelite_rect = [fidelity(1/np.sqrt(2)*(etat3_g-1j*etat3_e), state) for state in result.states]\n",
    "plt.plot(time,fidelite_rect)\n",
    "plt.ylabel('Fidélité')\n",
    "plt.xlabel('Temps (ns)')\n",
    "plt.show()\n",
    "plt.semilogy(time*1e9,1-np.array(fidelite_rect))\n",
    "plt.ylabel('Infidélité')\n",
    "plt.xlabel('Temps (ns)')\n",
    "plt.show()"
   ]
  },
  {
   "cell_type": "markdown",
   "metadata": {
    "collapsed": false
   },
   "source": [
    "### Impulsion gaussienne"
   ]
  },
  {
   "cell_type": "code",
   "execution_count": null,
   "metadata": {
    "collapsed": false
   },
   "outputs": [],
   "source": [
    "alpha = 1.25\n",
    "gaus_width = pulse_width/(2*alpha)\n",
    "def gaus_enveloppe(t):\n",
    "    return np.exp(-(t-max_time/2)**2/(2*gaus_width**2))\n",
    "\n",
    "plt.plot(t, gaus_enveloppe(t))\n",
    "plt.xlabel(\"$t$ (s)\")\n",
    "plt.show()\n",
    "\n",
    "result_gauss = mesolve(hamiltonian_t, etat3_g, time, [],[], args=[gaus_enveloppe], options=Options(max_step=mesolve_max_step))\n",
    "plt.plot(t, except(ee3, result_gauss.states))\n"
   ]
  },
  {
   "cell_type": "code",
   "execution_count": null,
   "metadata": {
    "collapsed": false
   },
   "outputs": [],
   "source": [
    "fidelite_gauss = [fidelity(1/np.sqrt(2)*(etat3_g-1j*etat3_e), state) for state in result_gauss.states]\n",
    "plt.plot(time,fidelite_gauss)\n",
    "plt.ylabel('Fidélité')\n",
    "plt.xlabel('Temps (ns)')\n",
    "plt.show()\n",
    "plt.semilogy(time,1-np.array(fidelite_gauss))\n",
    "plt.ylabel('Infidélité')\n",
    "plt.xlabel('Temps (ns)')\n",
    "plt.show()"
   ]
  }
 ],
 "metadata": {
  "kernelspec": {
   "argv": [
    "/usr/bin/python3",
    "-m",
    "ipykernel",
    "--HistoryManager.enabled=False",
    "--matplotlib=inline",
    "-c",
    "%config InlineBackend.figure_formats = set(['retina'])\nimport matplotlib; matplotlib.rcParams['figure.figsize'] = (12, 7)",
    "-f",
    "{connection_file}"
   ],
   "display_name": "Python 3 (system-wide)",
   "env": {},
   "language": "python",
   "metadata": {
    "cocalc": {
     "description": "Python 3 programming language",
     "priority": 100,
     "url": "https://www.python.org/"
    }
   },
   "name": "python3",
   "resource_dir": "/ext/jupyter/kernels/python3"
  },
  "language_info": {
   "codemirror_mode": {
    "name": "ipython",
    "version": 3
   },
   "file_extension": ".py",
   "mimetype": "text/x-python",
   "name": "python",
   "nbconvert_exporter": "python",
   "pygments_lexer": "ipython3",
   "version": "3.11.5"
  },
  "orig_nbformat": 4
 },
 "nbformat": 4,
 "nbformat_minor": 4
}
